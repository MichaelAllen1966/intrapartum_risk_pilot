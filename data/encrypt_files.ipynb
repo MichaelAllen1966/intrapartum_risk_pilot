{
 "cells": [
  {
   "cell_type": "code",
   "execution_count": 1,
   "id": "11628fd4-1f2b-4850-95af-f6b7e7d683ec",
   "metadata": {
    "tags": []
   },
   "outputs": [],
   "source": [
    "import pandas as pd\n",
    "import cryptpandas as crp\n",
    "from IPython.display import clear_output\n"
   ]
  },
  {
   "cell_type": "code",
   "execution_count": 2,
   "id": "8a378feb-80f1-45f6-8bec-f4258d523f97",
   "metadata": {
    "tags": []
   },
   "outputs": [],
   "source": [
    "files = [\n",
    "    'SMMIS 1988-2000 selected for labour 18-10-2021',\n",
    "    'SMMIS 1988-2000 selected for risk study 17-10-2021',\n",
    "    'SMMIS 1988-2000 with birthweight and computed variables',\n",
    "    'SMMIS data (1988-2000)']"
   ]
  },
  {
   "cell_type": "code",
   "execution_count": 3,
   "id": "4bb8b6d3-ac5d-44db-9100-0d0f6cb9c156",
   "metadata": {
    "tags": []
   },
   "outputs": [],
   "source": [
    "password = input('Password? ')\n",
    "clear_output()"
   ]
  },
  {
   "cell_type": "code",
   "execution_count": 4,
   "id": "f50a6e9e-955b-41bb-a1cf-611f9bf1d5ad",
   "metadata": {},
   "outputs": [],
   "source": [
    "for file in files:\n",
    "    df = pd.read_csv(file + '.csv', low_memory=False)\n",
    "    crp.to_encrypted(df, password=password, path=file+'.crypt')"
   ]
  },
  {
   "cell_type": "code",
   "execution_count": 6,
   "id": "a41b957a-6399-4e97-9b28-2d9414d88fc4",
   "metadata": {
    "tags": []
   },
   "outputs": [
    {
     "name": "stdout",
     "output_type": "stream",
     "text": [
      "         mdob    birthdat  recordno  hospital  birthmth       maritacd  \\\n",
      "0  1961-03-24  1988-04-07       6.0       1.0       4.0  Never married   \n",
      "1  1959-03-01  1988-07-05       8.0       1.0       7.0      Separated   \n",
      "2  1963-11-22  1988-06-16      18.0       1.0       6.0        Married   \n",
      "3  1962-02-27  1988-06-24      31.0       1.0       6.0        Married   \n",
      "4  1944-09-07  1988-04-14      39.0       1.0       4.0        Married   \n",
      "\n",
      "  categocd        ethnircd       smokincd histdicd  ...  SVD    apgar57  \\\n",
      "0   Normal  White European  10-19 per day       No  ...  0.0  7 or more   \n",
      "1   Normal  White European     Non-smoker       No  ...  1.0  7 or more   \n",
      "2   Normal  White European     Non-smoker       No  ...  1.0  7 or more   \n",
      "3   Normal  White European     Non-smoker       No  ...  1.0  7 or more   \n",
      "4   Normal  White European     Non-smoker       No  ...  1.0  7 or more   \n",
      "\n",
      "  durlab6 Scannum                        CTGmec                       CTGpyr  \\\n",
      "0     6.0     1.0  CTG abnormal but no meconium  CTG abnormal but no pyrexia   \n",
      "1     0.0     1.0    CTG normal and no meconium    CTG normal and no pyrexia   \n",
      "2     0.0     1.0    CTG normal and no meconium    CTG normal and no pyrexia   \n",
      "3     6.0     1.0    CTG normal and no meconium    CTG normal and no pyrexia   \n",
      "4     0.0     1.0    CTG normal and no meconium    CTG normal and no pyrexia   \n",
      "\n",
      "                           CTGpyrmec  durlabtot  durlabtotgp  fifthorbelow  \n",
      "0                               None   9.250000          9.0  >5th centile  \n",
      "1  CTG normal no meconium no pyrexia   5.350000          5.0  >5th centile  \n",
      "2  CTG normal no meconium no pyrexia   3.566667          3.0  >5th centile  \n",
      "3  CTG normal no meconium no pyrexia   8.550000          8.0  >5th centile  \n",
      "4  CTG normal no meconium no pyrexia   4.466667          4.0  >5th centile  \n",
      "\n",
      "[5 rows x 224 columns]\n",
      "         mdob    birthdat  recordno  hospital  birthmth       maritacd  \\\n",
      "0  1961-03-24  1988-04-07       6.0       1.0       4.0  Never married   \n",
      "1  1959-03-01  1988-07-05       8.0       1.0       7.0      Separated   \n",
      "2  1963-11-22  1988-06-16      18.0       1.0       6.0        Married   \n",
      "3  1962-02-27  1988-06-24      31.0       1.0       6.0        Married   \n",
      "4  1944-09-07  1988-04-14      39.0       1.0       4.0        Married   \n",
      "\n",
      "  categocd        ethnircd       smokincd histdicd  ...  \\\n",
      "0   Normal  White European  10-19 per day       No  ...   \n",
      "1   Normal  White European     Non-smoker       No  ...   \n",
      "2   Normal  White European     Non-smoker       No  ...   \n",
      "3   Normal  White European     Non-smoker       No  ...   \n",
      "4   Normal  White European     Non-smoker       No  ...   \n",
      "\n",
      "               Pyrexiamec  filter_$ Apgar5low Month1  SVD    apgar57  \\\n",
      "0  No pyrexia or meconium  Selected       0.0    Apr  0.0  7 or more   \n",
      "1  No pyrexia or meconium  Selected       0.0    Jul  1.0  7 or more   \n",
      "2  No pyrexia or meconium  Selected       0.0    Jun  1.0  7 or more   \n",
      "3  No pyrexia or meconium  Selected       0.0    Jun  1.0  7 or more   \n",
      "4  No pyrexia or meconium  Selected       0.0    Apr  1.0  7 or more   \n",
      "\n",
      "   Durlabtot  Durlabtottrunc  Durlabtot4hr less5centile  \n",
      "0   9.250000             9.0           8.0          0.0  \n",
      "1   5.350000             5.0           4.0          0.0  \n",
      "2   3.566667             3.0           0.0          0.0  \n",
      "3   8.550000             8.0           8.0          0.0  \n",
      "4   4.466667             4.0           4.0          0.0  \n",
      "\n",
      "[5 rows x 220 columns]\n",
      "         mdob    birthdat  recordno  hospital  birthmth       maritacd  \\\n",
      "0        None        None       1.0       NaN       NaN           None   \n",
      "1        None        None       2.0       NaN       NaN           None   \n",
      "2  1952-09-06  1988-06-04       4.0       1.0       6.0        Married   \n",
      "3  1961-03-24  1988-04-07       6.0       1.0       4.0  Never married   \n",
      "4  1959-03-01  1988-07-05       8.0       1.0       7.0      Separated   \n",
      "\n",
      "  categocd        ethnircd       smokincd histdicd  ... pph1000 lowhbtrunc  \\\n",
      "0     None            None           None     None  ...    None        NaN   \n",
      "1     None            None           None     None  ...    None        NaN   \n",
      "2   Normal  White European     Non-smoker       No  ...  No PPH       12.0   \n",
      "3   Normal  White European  10-19 per day       No  ...  No PPH        9.0   \n",
      "4   Normal  White European     Non-smoker       No  ...  No PPH        9.0   \n",
      "\n",
      "               Pyrexiamec  filter_$ Apgar5low Month1  SVD  Apgar5lt7  SGA  \\\n",
      "0  No pyrexia or meconium      None       0.0   None  0.0       None  SGA   \n",
      "1  No pyrexia or meconium      None       0.0   None  0.0       None  SGA   \n",
      "2  No pyrexia or meconium  Selected       0.0    Jun  1.0  Apgar >=7  SGA   \n",
      "3  No pyrexia or meconium  Selected       0.0    Apr  0.0  Apgar >=7  AGA   \n",
      "4  No pyrexia or meconium  Selected       0.0    Jul  1.0  Apgar >=7  AGA   \n",
      "\n",
      "  smoker  \n",
      "0    0.0  \n",
      "1    0.0  \n",
      "2    0.0  \n",
      "3    1.0  \n",
      "4    0.0  \n",
      "\n",
      "[5 rows x 218 columns]\n",
      "   recordno  hospital                  hospname    year      ed91  crstairs  \\\n",
      "0       1.0       1.0  Edgware General Hospital  1988.0  02ARFE06       3.0   \n",
      "1       2.0       1.0  Edgware General Hospital  1988.0      None       NaN   \n",
      "2       3.0       1.0  Edgware General Hospital  1988.0  02ARFW11      -1.0   \n",
      "3       4.0       1.0  Edgware General Hospital  1988.0  02ARFA06      -1.0   \n",
      "4       5.0       1.0  Edgware General Hospital  1988.0      None       NaN   \n",
      "\n",
      "   crsquint mhospnum  birthord  birthmth  ... mdest  bornat infnhsno timdish  \\\n",
      "0       5.0   121501       1.0      10.0  ...  None     NaN     None     NaN   \n",
      "1       NaN   222222       1.0       1.0  ...  None     NaN     None     NaN   \n",
      "2       3.0   422294       1.0       8.0  ...     T     NaN     None     NaN   \n",
      "3       2.0  B023774       1.0       6.0  ...     U     NaN     None     NaN   \n",
      "4       NaN  B114268       1.0      12.0  ...     U     NaN     None     NaN   \n",
      "\n",
      "  ethniccd ethnicp infethcd infethp eclampsia  season  \n",
      "0     None    None     None    None      None  Autumn  \n",
      "1     None    None     None    None      None  Winter  \n",
      "2     None    None     None    None      None  Summer  \n",
      "3     None    None     None    None      None  Summer  \n",
      "4     None    None     None    None      None  Winter  \n",
      "\n",
      "[5 rows x 258 columns]\n"
     ]
    }
   ],
   "source": [
    "for file in files:\n",
    "    df = crp.read_encrypted(path=file+'.crypt', password=password)\n",
    "    print(df.head())"
   ]
  },
  {
   "cell_type": "code",
   "execution_count": null,
   "id": "2c3e78aa-f24b-4eaf-b4a7-779ddd438a3d",
   "metadata": {},
   "outputs": [],
   "source": []
  }
 ],
 "metadata": {
  "kernelspec": {
   "display_name": "Python 3 (ipykernel)",
   "language": "python",
   "name": "python3"
  },
  "language_info": {
   "codemirror_mode": {
    "name": "ipython",
    "version": 3
   },
   "file_extension": ".py",
   "mimetype": "text/x-python",
   "name": "python",
   "nbconvert_exporter": "python",
   "pygments_lexer": "ipython3",
   "version": "3.11.4"
  }
 },
 "nbformat": 4,
 "nbformat_minor": 5
}
